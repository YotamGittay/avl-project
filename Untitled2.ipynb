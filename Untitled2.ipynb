{
 "cells": [
  {
   "cell_type": "code",
   "execution_count": 3,
   "metadata": {},
   "outputs": [
    {
     "name": "stdout",
     "output_type": "stream",
     "text": [
      "            29: (Height: 0) (BF: 0) (Size: 1)\n",
      "        28: (Height: 1) (BF: -1) (Size: 2)\n",
      "    27: (Height: 2) (BF: -1) (Size: 4)\n",
      "        26: (Height: 0) (BF: 0) (Size: 1)\n",
      "25: (Height: 3) (BF: -1) (Size: 7)\n",
      "        24: (Height: 0) (BF: 0) (Size: 1)\n",
      "    23: (Height: 1) (BF: -1) (Size: 2)\n"
     ]
    }
   ],
   "source": [
    "from AVLTree import  AVLTree\n",
    "from graph_tree import draw_binary_tree\n",
    "\n",
    "\n",
    "keys1 = [25,23,27,28,26,24,29]\n",
    "keys2 = [16]\n",
    "\n",
    "t1 = AVLTree.create_tree_from_keys(keys1)\n",
    "t2 = AVLTree.create_tree_from_keys(keys2)\n",
    "\n",
    "t1.print_tree()"
   ]
  },
  {
   "cell_type": "code",
   "execution_count": 2,
   "metadata": {},
   "outputs": [
    {
     "name": "stdout",
     "output_type": "stream",
     "text": [
      "joining between tree1: \n",
      "16: (Height: 0) (BF: 0) (Size: 1)\n",
      "and tree2: \n",
      "            29: (Height: 0) (BF: 0) (Size: 1)\n",
      "        28: (Height: 1) (BF: -1) (Size: 2)\n",
      "    27: (Height: 2) (BF: -1) (Size: 4)\n",
      "        26: (Height: 0) (BF: 0) (Size: 1)\n",
      "25: (Height: 3) (BF: -1) (Size: 7)\n",
      "        24: (Height: 0) (BF: 0) (Size: 1)\n",
      "    23: (Height: 1) (BF: -1) (Size: 2)\n",
      "with  22\n",
      "switicng trees\n",
      "running left\n",
      "here222\n",
      "right after connecting \n",
      "            29: (Height: 0) (BF: 0) (Size: 1)\n",
      "        28: (Height: 1) (BF: -1) (Size: 2)\n",
      "    27: (Height: 2) (BF: -1) (Size: 4)\n",
      "        26: (Height: 0) (BF: 0) (Size: 1)\n",
      "25: (Height: 3) (BF: -2) (Size: 9)\n",
      "            24: (Height: 0) (BF: 0) (Size: 1)\n",
      "        23: (Height: 1) (BF: -1) (Size: 2)\n",
      "    22: (Height: 0) (BF: -1) (Size: 4)\n",
      "        16: (Height: 0) (BF: 0) (Size: 1)\n",
      "right before balancing \n",
      "            29: (Height: 0) (BF: 0) (Size: 1)\n",
      "        28: (Height: 1) (BF: -1) (Size: 2)\n",
      "    27: (Height: 2) (BF: -1) (Size: 4)\n",
      "        26: (Height: 0) (BF: 0) (Size: 1)\n",
      "25: (Height: 3) (BF: 0) (Size: 9)\n",
      "            24: (Height: 0) (BF: 0) (Size: 1)\n",
      "        23: (Height: 1) (BF: -1) (Size: 2)\n",
      "    22: (Height: 2) (BF: -1) (Size: 4)\n",
      "        16: (Height: 0) (BF: 0) (Size: 1)\n"
     ]
    },
    {
     "data": {
      "text/plain": [
       "4"
      ]
     },
     "execution_count": 2,
     "metadata": {},
     "output_type": "execute_result"
    }
   ],
   "source": [
    "t2.join(t1, 22,\"\")"
   ]
  },
  {
   "cell_type": "code",
   "execution_count": null,
   "metadata": {},
   "outputs": [],
   "source": []
  }
 ],
 "metadata": {
  "kernelspec": {
   "display_name": "Python 3",
   "language": "python",
   "name": "python3"
  },
  "language_info": {
   "codemirror_mode": {
    "name": "ipython",
    "version": 3
   },
   "file_extension": ".py",
   "mimetype": "text/x-python",
   "name": "python",
   "nbconvert_exporter": "python",
   "pygments_lexer": "ipython3",
   "version": "3.8.5"
  }
 },
 "nbformat": 4,
 "nbformat_minor": 4
}
