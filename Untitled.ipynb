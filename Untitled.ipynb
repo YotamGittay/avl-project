{
 "cells": [
  {
   "cell_type": "code",
   "execution_count": 13,
   "metadata": {},
   "outputs": [],
   "source": [
    "from AVLTree import  AVLTree\n",
    "from graph_tree import draw_binary_tree"
   ]
  },
  {
   "cell_type": "code",
   "execution_count": 10,
   "metadata": {
    "scrolled": false
   },
   "outputs": [
    {
     "name": "stdout",
     "output_type": "stream",
     "text": [
      "right rotation  11\n",
      "left rotation  4\n",
      "left rotation  7\n",
      "right rotation  23\n",
      "left rotation  30\n",
      "right rotation  7\n",
      "            43:43 (Height: 0) (BF: 0) (Size: 1)\n",
      "        40:40 (Height: 1) (BF: 0) (Size: 3)\n",
      "            30:30 (Height: 0) (BF: 0) (Size: 1)\n",
      "    23:23 (Height: 2) (BF: -1) (Size: 5)\n",
      "        15:15 (Height: 0) (BF: 0) (Size: 1)\n",
      "11:11 (Height: 3) (BF: 0) (Size: 10)\n",
      "        7:7 (Height: 0) (BF: 0) (Size: 1)\n",
      "    4:4 (Height: 2) (BF: 1) (Size: 4)\n",
      "        2:2 (Height: 1) (BF: 1) (Size: 2)\n",
      "            1:1 (Height: 0) (BF: 0) (Size: 1)\n"
     ]
    }
   ],
   "source": [
    "nodes = [23, 4, 30, 11, 7, 15, 40, 43, 2, 1]\n",
    "tree = AVLTree()\n",
    "for k in nodes:\n",
    "    tree.insert(k, k)\n",
    "tree.print_tree()"
   ]
  },
  {
   "cell_type": "code",
   "execution_count": 11,
   "metadata": {
    "scrolled": false
   },
   "outputs": [
    {
     "data": {
      "text/plain": [
       "2"
      ]
     },
     "execution_count": 11,
     "metadata": {},
     "output_type": "execute_result"
    }
   ],
   "source": [
    "tree.delete_by_key(1)"
   ]
  },
  {
   "cell_type": "code",
   "execution_count": 12,
   "metadata": {},
   "outputs": [
    {
     "name": "stdout",
     "output_type": "stream",
     "text": [
      "            43:43 (Height: 0) (BF: 0) (Size: 1)\n",
      "        40:40 (Height: 1) (BF: 0) (Size: 3)\n",
      "            30:30 (Height: 0) (BF: 0) (Size: 1)\n",
      "    23:23 (Height: 2) (BF: -1) (Size: 5)\n",
      "        15:15 (Height: 0) (BF: 0) (Size: 1)\n",
      "11:11 (Height: 3) (BF: -1) (Size: 10)\n",
      "        7:7 (Height: 0) (BF: 0) (Size: 1)\n",
      "    4:4 (Height: 1) (BF: 0) (Size: 4)\n",
      "        2:2 (Height: 0) (BF: 0) (Size: 1)\n"
     ]
    }
   ],
   "source": [
    "tree.print_tree()"
   ]
  },
  {
   "cell_type": "code",
   "execution_count": 4,
   "metadata": {},
   "outputs": [
    {
     "name": "stdout",
     "output_type": "stream",
     "text": [
      "            43:43 (Height: 0) (BF: 0) (Size: 1)\n",
      "        40:40 (Height: 1) (BF: 0) (Size: 3)\n",
      "            30:30 (Height: 0) (BF: 0) (Size: 1)\n",
      "    23:23 (Height: 2) (BF: -1) (Size: 5)\n",
      "        15:15 (Height: 0) (BF: 0) (Size: 1)\n",
      "11:11 (Height: 3) (BF: -1) (Size: 10)\n",
      "        7:7 (Height: 0) (BF: 0) (Size: 1)\n",
      "    4:4 (Height: 1) (BF: 0) (Size: 4)\n",
      "        2:2 (Height: 0) (BF: 0) (Size: 1)\n"
     ]
    }
   ],
   "source": [
    "tree.print_tree()"
   ]
  },
  {
   "cell_type": "code",
   "execution_count": 5,
   "metadata": {
    "scrolled": true
   },
   "outputs": [
    {
     "data": {
      "text/plain": [
       "0"
      ]
     },
     "execution_count": 5,
     "metadata": {},
     "output_type": "execute_result"
    }
   ],
   "source": [
    "tree.delete_by_key(2)"
   ]
  },
  {
   "cell_type": "code",
   "execution_count": 6,
   "metadata": {},
   "outputs": [
    {
     "name": "stdout",
     "output_type": "stream",
     "text": [
      "            43:43 (Height: 0) (BF: 0) (Size: 1)\n",
      "        40:40 (Height: 1) (BF: 0) (Size: 3)\n",
      "            30:30 (Height: 0) (BF: 0) (Size: 1)\n",
      "    23:23 (Height: 2) (BF: -1) (Size: 5)\n",
      "        15:15 (Height: 0) (BF: 0) (Size: 1)\n",
      "11:11 (Height: 3) (BF: -1) (Size: 10)\n",
      "        7:7 (Height: 0) (BF: 0) (Size: 1)\n",
      "    4:4 (Height: 1) (BF: -1) (Size: 2)\n"
     ]
    }
   ],
   "source": [
    "tree.print_tree()"
   ]
  },
  {
   "cell_type": "code",
   "execution_count": 7,
   "metadata": {},
   "outputs": [
    {
     "name": "stdout",
     "output_type": "stream",
     "text": [
      "left rotation  11\n"
     ]
    },
    {
     "data": {
      "text/plain": [
       "2"
      ]
     },
     "execution_count": 7,
     "metadata": {},
     "output_type": "execute_result"
    }
   ],
   "source": [
    "tree.delete_by_key(7)"
   ]
  },
  {
   "cell_type": "code",
   "execution_count": 8,
   "metadata": {},
   "outputs": [
    {
     "name": "stdout",
     "output_type": "stream",
     "text": [
      "        43:43 (Height: 0) (BF: 0) (Size: 1)\n",
      "    40:40 (Height: 1) (BF: 0) (Size: 3)\n",
      "        30:30 (Height: 0) (BF: 0) (Size: 1)\n",
      "23:23 (Height: 2) (BF: 0) (Size: 7)\n",
      "        15:15 (Height: 0) (BF: 0) (Size: 1)\n",
      "    11:11 (Height: 1) (BF: 0) (Size: 3)\n",
      "        4:4 (Height: 0) (BF: 0) (Size: 1)\n"
     ]
    }
   ],
   "source": [
    "tree.print_tree()"
   ]
  },
  {
   "cell_type": "code",
   "execution_count": null,
   "metadata": {},
   "outputs": [],
   "source": []
  }
 ],
 "metadata": {
  "kernelspec": {
   "display_name": "Python 3",
   "language": "python",
   "name": "python3"
  },
  "language_info": {
   "codemirror_mode": {
    "name": "ipython",
    "version": 3
   },
   "file_extension": ".py",
   "mimetype": "text/x-python",
   "name": "python",
   "nbconvert_exporter": "python",
   "pygments_lexer": "ipython3",
   "version": "3.8.5"
  }
 },
 "nbformat": 4,
 "nbformat_minor": 4
}
