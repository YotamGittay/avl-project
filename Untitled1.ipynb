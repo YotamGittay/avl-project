{
 "cells": [
  {
   "cell_type": "code",
   "execution_count": 1,
   "metadata": {},
   "outputs": [],
   "source": [
    "from AVLTree import  AVLTree\n",
    "from graph_tree import draw_binary_tree"
   ]
  },
  {
   "cell_type": "code",
   "execution_count": 2,
   "metadata": {},
   "outputs": [
    {
     "name": "stdout",
     "output_type": "stream",
     "text": [
      "12: (Height: 0) (BF: 0) (Size: 1)\n",
      "***********\n",
      "The tree is empty!\n",
      "***********\n"
     ]
    },
    {
     "data": {
      "text/plain": [
       "1"
      ]
     },
     "execution_count": 2,
     "metadata": {},
     "output_type": "execute_result"
    }
   ],
   "source": [
    "keys1 = [12]\n",
    "keys2 = []\n",
    "\n",
    "tree1 = AVLTree()\n",
    "for i in range(len(keys1)):\n",
    "    tree1.insert(keys1[i], \"\")\n",
    "tree1.print_tree()\n",
    "print(\"***********\")\n",
    "tree2 = AVLTree()\n",
    "for i in range(len(keys2)):\n",
    "    tree2.insert(keys2[i], \"\")\n",
    "tree2.print_tree()\n",
    "print(\"***********\")\n",
    "tree1.join(tree2,10,\"\")\n"
   ]
  },
  {
   "cell_type": "code",
   "execution_count": 3,
   "metadata": {},
   "outputs": [
    {
     "name": "stdout",
     "output_type": "stream",
     "text": [
      "12: (Height: 1) (BF: 1) (Size: 2)\n",
      "    10: (Height: 0) (BF: 0) (Size: 1)\n"
     ]
    }
   ],
   "source": [
    "tree1.print_tree()"
   ]
  },
  {
   "cell_type": "code",
   "execution_count": null,
   "metadata": {},
   "outputs": [],
   "source": []
  }
 ],
 "metadata": {
  "kernelspec": {
   "display_name": "Python 3",
   "language": "python",
   "name": "python3"
  },
  "language_info": {
   "codemirror_mode": {
    "name": "ipython",
    "version": 3
   },
   "file_extension": ".py",
   "mimetype": "text/x-python",
   "name": "python",
   "nbconvert_exporter": "python",
   "pygments_lexer": "ipython3",
   "version": "3.8.5"
  }
 },
 "nbformat": 4,
 "nbformat_minor": 4
}
