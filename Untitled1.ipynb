{
 "cells": [
  {
   "cell_type": "code",
   "execution_count": 1,
   "metadata": {},
   "outputs": [],
   "source": [
    "from AVLTree import  AVLTree\n",
    "from graph_tree import draw_binary_tree\n",
    "import random"
   ]
  },
  {
   "cell_type": "code",
   "execution_count": 2,
   "metadata": {},
   "outputs": [
    {
     "name": "stdout",
     "output_type": "stream",
     "text": [
      "        9: (Height: 1) (BF: 1) (Size: 2)\n",
      "            8: (Height: 0) (BF: 0) (Size: 1)\n",
      "    7: (Height: 2) (BF: 0) (Size: 6)\n",
      "            6: (Height: 0) (BF: 0) (Size: 1)\n",
      "        5: (Height: 1) (BF: 0) (Size: 3)\n",
      "            4: (Height: 0) (BF: 0) (Size: 1)\n",
      "3: (Height: 3) (BF: -1) (Size: 10)\n",
      "        2: (Height: 0) (BF: 0) (Size: 1)\n",
      "    1: (Height: 1) (BF: 0) (Size: 3)\n",
      "        0: (Height: 0) (BF: 0) (Size: 1)\n"
     ]
    }
   ],
   "source": [
    "keys1 =  [i for i in range(10)]\n",
    "random.shuffle(keys1)\n",
    "tree1 = AVLTree()\n",
    "for i in range(len(keys1)):\n",
    "    tree1.insert(keys1[i], \"\")\n",
    "tree1.print_tree()\n",
    "# print(\"***********\")\n",
    "# tree2 = AVLTree()\n",
    "# for i in range(len(keys2)):\n",
    "#     tree2.insert(keys2[i], \"\")\n",
    "# tree2.print_tree()"
   ]
  },
  {
   "cell_type": "code",
   "execution_count": 3,
   "metadata": {},
   "outputs": [
    {
     "name": "stdout",
     "output_type": "stream",
     "text": [
      "2\n"
     ]
    }
   ],
   "source": [
    "x = 2# random.choice(keys1)\n",
    "print(x)\n",
    "node = tree1.search(x)"
   ]
  },
  {
   "cell_type": "code",
   "execution_count": 4,
   "metadata": {},
   "outputs": [],
   "source": [
    "t = tree1.split(node)"
   ]
  },
  {
   "cell_type": "code",
   "execution_count": 5,
   "metadata": {},
   "outputs": [
    {
     "name": "stdout",
     "output_type": "stream",
     "text": [
      "    1: (Height: 0) (BF: 0) (Size: 1)\n",
      "0: (Height: 1) (BF: -1) (Size: 2)\n"
     ]
    }
   ],
   "source": [
    "t[0].print_tree()"
   ]
  },
  {
   "cell_type": "code",
   "execution_count": 6,
   "metadata": {},
   "outputs": [
    {
     "name": "stdout",
     "output_type": "stream",
     "text": [
      "    9: (Height: 1) (BF: 1) (Size: 2)\n",
      "        8: (Height: 0) (BF: 0) (Size: 1)\n",
      "7: (Height: 3) (BF: 1) (Size: 7)\n",
      "        6: (Height: 0) (BF: 0) (Size: 1)\n",
      "    5: (Height: 2) (BF: 1) (Size: 4)\n",
      "        4: (Height: 1) (BF: 1) (Size: 2)\n",
      "            3: (Height: 0) (BF: 0) (Size: 1)\n"
     ]
    }
   ],
   "source": [
    "t[1].print_tree()"
   ]
  },
  {
   "cell_type": "code",
   "execution_count": 7,
   "metadata": {},
   "outputs": [
    {
     "data": {
      "text/plain": [
       "9"
      ]
     },
     "execution_count": 7,
     "metadata": {},
     "output_type": "execute_result"
    }
   ],
   "source": [
    "t[0].get_root().get_size() + t[1].get_root().get_size()"
   ]
  },
  {
   "cell_type": "code",
   "execution_count": null,
   "metadata": {},
   "outputs": [],
   "source": []
  }
 ],
 "metadata": {
  "kernelspec": {
   "display_name": "Python 3",
   "language": "python",
   "name": "python3"
  },
  "language_info": {
   "codemirror_mode": {
    "name": "ipython",
    "version": 3
   },
   "file_extension": ".py",
   "mimetype": "text/x-python",
   "name": "python",
   "nbconvert_exporter": "python",
   "pygments_lexer": "ipython3",
   "version": "3.8.5"
  }
 },
 "nbformat": 4,
 "nbformat_minor": 4
}
